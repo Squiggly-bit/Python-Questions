{
 "cells": [
  {
   "cell_type": "markdown",
   "id": "626bcc65",
   "metadata": {},
   "source": [
    "# 1. Multi-Tier Tax Calculation for International Trade"
   ]
  },
  {
   "cell_type": "code",
   "execution_count": 2,
   "id": "10c57069",
   "metadata": {},
   "outputs": [
    {
     "name": "stdout",
     "output_type": "stream",
     "text": [
      "Enter the item_category (Electronics): e\n",
      "Enter Value of the item: 1\n",
      "Enter the country economic status (Developing): d\n",
      "Is the Item Eco-friendly // True or False: e\n",
      "No tax charged , No custom-duty charged and no discount on tax\n"
     ]
    }
   ],
   "source": [
    "item_category = input(\"Enter the item_category (Electronics): \")\n",
    "value_of_item = int(input(\"Enter Value of the item: \"))\n",
    "country_of_import = input(\"Enter the country economic status (Developing): \")\n",
    "Eco_friendly = input(\"Is the Item Eco-friendly // True or False: \")\n",
    "\n",
    "tax_charged = 0\n",
    "value_after_tax = 0\n",
    "tax_discount = 0\n",
    "value_after_tax_discount = 0\n",
    "custom_duty = 0\n",
    "value_after_custom_duty = 0\n",
    "\n",
    "if item_category == \"Electronics\" and value_of_item > 50000:\n",
    "    tax_charged = value_of_item*25/100\n",
    "    value_after_tax = value_of_item - tax_charged\n",
    "    print(\"Tax on Electronic and value exceeding 50,000 is: \",tax_charged)\n",
    "    print(\"Value after tax: \",value_after_tax)\n",
    "    \n",
    "    if Eco_friendly == \"True\":\n",
    "        tax_discount = value_after_tax*5/100\n",
    "        value_after_tax_discount = value_after_tax + tax_discount\n",
    "        print(\"discount on Tax: \",tax_discount)\n",
    "        print(\"Value after discount on tax: \",value_after_tax_discount)\n",
    "    \n",
    "elif country_of_import == \"Developing\" and 10000 < value_of_item < 50000:\n",
    "    custom_duty = value_of_item*15/100\n",
    "    value_after_custom_duty = value_of_item - custom_duty\n",
    "    print(\"Custom Duty on Developing and value between 10000 and 50000: \",custom_duty)\n",
    "    print(\"Value after Custom Duty: \",value_after_custom_duty)\n",
    "    \n",
    "    if Eco_friendly == \"True\":\n",
    "        tax_discount = value_after_custom_duty*5/100\n",
    "        value_after_tax_discount = value_after_custom_duty + tax_discount\n",
    "        print(\"discount Tax: \",tax_discount)\n",
    "        print(\"Value after discount on tax: \",value_after_tax_discount)\n",
    "\n",
    "elif Eco_friendly == \"True\":\n",
    "    tax_discount = value_of_item*5/100\n",
    "    value_after_tax_discount = value_of_item + tax_discount\n",
    "    print(\"discount Tax: \",tax_discount)\n",
    "    print(\"Value after discount on tax: \",value_after_tax_discount)\n",
    "    \n",
    "else:\n",
    "    print(\"No tax charged , No custom-duty charged and no discount on tax\")\n"
   ]
  },
  {
   "cell_type": "markdown",
   "id": "e77dbd6d",
   "metadata": {},
   "source": [
    "# 2. Dynamic Risk Assessment for Financial Loans"
   ]
  },
  {
   "cell_type": "code",
   "execution_count": 4,
   "id": "a2caf74d",
   "metadata": {},
   "outputs": [
    {
     "name": "stdout",
     "output_type": "stream",
     "text": [
      "Enter Credir Score:\n",
      "300\n",
      "Enter loan: \n",
      "100001\n",
      "Etner income: \n",
      "13\n",
      "Do applicant has a co-signer:\n",
      "Yes\n",
      "High Risk\n",
      "Risk is reduced to Moderate risk\n"
     ]
    }
   ],
   "source": [
    "credit_score = int(input(\"Enter Credir Score:\\n\"))\n",
    "loan = int(input(\"Enter loan: \\n\"))\n",
    "income = int(input(\"Etner income: \\n\"))\n",
    "co_signer = input(\"Do applicant has a co-signer:\\n\")\n",
    "\n",
    "if credit_score<600 and loan>100000:\n",
    "    print(\"High Risk\")\n",
    "    if co_signer==\"Yes\":\n",
    "        print(\"Risk is reduced to Moderate risk\")\n",
    "\n",
    "elif 600<=credit_score<=750 and income<50000:\n",
    "    print(\"Moderate risk\")\n",
    "    if co_signer==\"Yes\":\n",
    "        print(\"Risk is reduced to low risk\")\n",
    "\n",
    "elif credit_score>750 and income>100000:\n",
    "    print(\"Low risk\")\n",
    "    \n",
    "else:\n",
    "    print(\"applicant do not meet any requirements\")"
   ]
  },
  {
   "cell_type": "markdown",
   "id": "b62f8678",
   "metadata": {},
   "source": [
    "# 3. Multi-Criteria Stock Replenishment Decision"
   ]
  },
  {
   "cell_type": "code",
   "execution_count": 10,
   "id": "0cc6d021",
   "metadata": {},
   "outputs": [
    {
     "name": "stdout",
     "output_type": "stream",
     "text": [
      "Enter stock level:\n",
      "12345211235\n",
      "Enter monthly sales:\n",
      "1235235125\n",
      "Enter expiry date in days:\n",
      "12352351235\n",
      "Normal Stock\n"
     ]
    }
   ],
   "source": [
    "stock_level = int(input(\"Enter stock level:\\n\"))\n",
    "avg_monthly_sales = int(input(\"Enter monthly sales:\\n\"))\n",
    "expiry_date = int(input(\"Enter expiry date in days:\\n\"))\n",
    "\n",
    "if 0<stock_level<10 and avg_monthly_sales>50:\n",
    "    print(\"Urgent Replenishment\")\n",
    "\n",
    "elif 10<=stock_level<=50 and 20<=avg_monthly_sales<=50:\n",
    "    print(\"Moderate Replenishment\")\n",
    "\n",
    "elif expiry_date<=30:\n",
    "    print(\"Do not replenish\")\n",
    "\n",
    "else:\n",
    "    print(\"Normal Stock\")"
   ]
  },
  {
   "cell_type": "markdown",
   "id": "282c3a79",
   "metadata": {},
   "source": [
    "# 4. Personalized Insurance Premium Adjustment"
   ]
  },
  {
   "cell_type": "code",
   "execution_count": 15,
   "id": "57f71b52",
   "metadata": {},
   "outputs": [
    {
     "name": "stdout",
     "output_type": "stream",
     "text": [
      "Enter your age:\n",
      "34\n",
      "Enter accidents:\n",
      "0\n",
      "Enter number of accidents in 5 years:\n",
      "0\n",
      "Enter vehicle type(electric or hybrid):\n",
      "e\n",
      "does applicant lives in high-crime area(Yes/No):\n",
      "Yes\n",
      "Premium charged is : 20 %\n",
      "Final premium charged: 20\n"
     ]
    }
   ],
   "source": [
    "age = int(input(\"Enter your age:\\n\"))\n",
    "accidents = int(input(\"Enter accidents:\\n\"))\n",
    "accidents_5_years = int(input(\"Enter number of accidents in 5 years:\\n\"))\n",
    "vehicle_type = input(\"Enter vehicle type(electric or hybrid):\\n\")\n",
    "high_crime_area = input(\"does applicant lives in high-crime area(Yes/No):\\n\")\n",
    "surcharge = 25\n",
    "discount = 15\n",
    "eco_discount = 10\n",
    "high_crime_premium = 20\n",
    "final_premium = 0\n",
    "extra_premium = 0\n",
    "\n",
    "if age<25 and accidents>2:\n",
    "    print(\"surcharge on premium is: \",surcharge,\"%\")\n",
    "    final_premium = final_premium + surcharge\n",
    "    \n",
    "    if high_crime_area==\"Yes\":\n",
    "        print(\"Premium charged is :\",high_crime_premium,\"%\")\n",
    "        final_premium = final_premium + high_crime_premium\n",
    "    \n",
    "    if vehicle_type== \"electric\" or \"hybrid\":\n",
    "        print(\"Eco-Discount: \",eco_discount,\"%\")\n",
    "        final_premium = final_premium - eco_discount\n",
    "        \n",
    "    if final_premium>30:\n",
    "        print(\"Premium cannot exceed 30\")\n",
    "        extra_premium = final_premium - 30\n",
    "        final_premium = final_premium - extra_premium\n",
    "        \n",
    "    \n",
    "elif age>50 and accidents_5_years==0:\n",
    "    print(\"Discount received: \",discount,\"%\")\n",
    "    final_premium = final_premium - discount\n",
    "    \n",
    "    if high_crime_area==\"Yes\":\n",
    "        print(\"Premium charged is :\",high_crime_premium,\"%\")\n",
    "        final_premium = final_premium + high_crime_premium\n",
    "        \n",
    "    if vehicle_type== \"electric\" or \"hybrid\":\n",
    "        print(\"Eco-Discount: \",eco_discount,\"%\")\n",
    "        final_premium = final_premium - eco_discount\n",
    "    \n",
    "elif vehicle_type == \"electric\" or vehicle_type == \"hybrid\":\n",
    "    print(\"Eco-Discount: \",eco_discount,\"%\")\n",
    "    final_premium = final_premium - eco_discount\n",
    "    \n",
    "    if high_crime_area==\"Yes\":\n",
    "        print(\"Premium charged is :\",high_crime_premium,\"%\")\n",
    "        final_premium = final_premium + high_crime_premium\n",
    "    \n",
    "elif high_crime_area==\"Yes\":\n",
    "    print(\"Premium charged is :\",high_crime_premium,\"%\")\n",
    "    final_premium = final_premium + high_crime_premium\n",
    "\n",
    "print(\"Final premium charged:\",final_premium)"
   ]
  },
  {
   "cell_type": "markdown",
   "id": "39ecc6bd",
   "metadata": {},
   "source": [
    "# 5. Complex Employee Compensation Adjustment"
   ]
  },
  {
   "cell_type": "code",
   "execution_count": 2,
   "id": "b60f5303",
   "metadata": {},
   "outputs": [
    {
     "name": "stdout",
     "output_type": "stream",
     "text": [
      "Enter experience:\n",
      "45\n",
      "Enter current salary:\n",
      "45000\n",
      "Is employee in research & development(Yes/No):\n",
      "Yes\n",
      "Enter last quarter profit:\n",
      "21\n",
      "Did the employess get 2 consecutive excellent(Yes/No):\n",
      "Yes\n",
      "Current Salary after 15% salary increase:\n",
      " 51750.0\n",
      "Current salary after 10% bonus:\n",
      " 56925.0\n",
      "Current salary after 5% salary increase:\n",
      " 59771.25\n",
      "Final salary:\n",
      " 59771.25\n"
     ]
    }
   ],
   "source": [
    "exp = int(input(\"Enter experience:\\n\"))\n",
    "cur_salary = int(input(\"Enter current salary:\\n\"))\n",
    "department = input(\"Is employee in research & development(Yes/No):\\n\")\n",
    "last_quarter_profit = int(input(\"Enter last quarter profit:\\n\"))\n",
    "performance = input(\"Did the employess get 2 consecutive excellent(Yes/No):\\n\")\n",
    "avg_salary = 50000\n",
    "max_increment = 25\n",
    "\n",
    "salary_inc = 0\n",
    "bonus= 0\n",
    "salary_inc_2 = 0\n",
    "\n",
    "if exp>10 and cur_salary < avg_salary:\n",
    "    salary_inc = cur_salary * 0.15\n",
    "    cur_salary = cur_salary + salary_inc\n",
    "    print(\"Current Salary after 15% salary increase:\\n\",cur_salary)\n",
    "    \n",
    "    if department == \"Yes\" and last_quarter_profit>20:\n",
    "        bonus = cur_salary * 0.10\n",
    "        cur_salary = cur_salary + bonus\n",
    "        print(\"Current salary after 10% bonus:\\n\",cur_salary)\n",
    "    if performance == \"Yes\":\n",
    "        salary_inc_2 = cur_salary * 0.05\n",
    "        cur_salary = cur_salary + salary_inc_2\n",
    "        print(\"Current salary after 5% salary increase:\\n\",cur_salary)\n",
    "\n",
    "elif department == \"Yes\" and last_quarter_profit>20:\n",
    "    bonus = cur_salary * 0.10\n",
    "    cur_salary = cur_salary + bonus\n",
    "    print(\"Current salary after 10% bonus:\\n\",cur_salary)\n",
    "    \n",
    "    if performance == \"Yes\":\n",
    "        salary_inc_2 = cur_salary * 0.05\n",
    "        cur_salary = cur_salary + salary_inc_2\n",
    "        print(\"Current salary after 5% salary increase:\\n\",cur_salary)\n",
    "        \n",
    "elif performance == \"Yes\":\n",
    "    salary_inc_2 = cur_salary * 0.05\n",
    "    cur_salary = cur_salary + salary_inc_2\n",
    "    print(\"Current salary after 5% salary increase:\\n\",cur_salary)\n",
    "    \n",
    "print(\"Final salary:\\n\",cur_salary)"
   ]
  },
  {
   "cell_type": "markdown",
   "id": "4d7ccbfc",
   "metadata": {},
   "source": [
    "# 6. Advanced Real Estate Pricing Model"
   ]
  },
  {
   "cell_type": "code",
   "execution_count": 3,
   "id": "a2e10b10",
   "metadata": {},
   "outputs": [
    {
     "name": "stdout",
     "output_type": "stream",
     "text": [
      "Is the market marked as luxury segment(Yes/No):\n",
      "No\n",
      "Enter property price:\n",
      "100000\n",
      "Enter property location(city center):\n",
      "c\n",
      "Enter the area of property:\n",
      "1\n",
      "Etner the age of property:\n",
      "16\n",
      "Is the property certified green(Yes/No):\n",
      "No\n",
      "Enter new market trend:\n",
      "25\n",
      "Final property price is:  100000\n"
     ]
    }
   ],
   "source": [
    "luxury = input(\"Is the market marked as luxury segment(Yes/No):\\n\")\n",
    "property_price = int(input(\"Enter property price:\\n\"))\n",
    "location = input(\"Enter property location(city center):\\n\")\n",
    "area = int(input(\"Enter the area of property:\\n\"))\n",
    "property_age = int(input(\"Etner the age of property:\\n\"))\n",
    "certification = input(\"Is the property certified green(Yes/No):\\n\")\n",
    "new_market_trend = int(input(\"Enter new market trend:\\n\"))\n",
    "\n",
    "market_trend = 20\n",
    "premium = 0\n",
    "eco_premium = 0\n",
    "discount = 0\n",
    "fixed_premium = 50000\n",
    "\n",
    "if luxury == \"No\":\n",
    "    if location == \"city center\" and area>3000:\n",
    "        premium = property_price*0.25\n",
    "        property_price = property_price+premium\n",
    "        print(\"Property price after premium is: \",property_price)\n",
    "\n",
    "        if property_age<5 and certification == \"Yes\":\n",
    "            eco_premium = property_price*0.15\n",
    "            property_price = property_price + eco_premium\n",
    "            print(\"Property price after eco premium is: \",property_price)\n",
    "\n",
    "        if new_market_trend - market_trend <= market_trend*0.10 and property_age>15:\n",
    "            discount = property_price*0.10\n",
    "            property_price = property_price - discount\n",
    "            print(\"New price after discount allowed is: \",property_price)\n",
    "\n",
    "    elif property_age<5 and certification == \"Yes\":\n",
    "        eco_premium = property_price*0.15\n",
    "        property_price = property_price + eco_premium\n",
    "        print(\"Property price after eco premium is: \",property_price)\n",
    "\n",
    "    elif new_market_trend-market_trend <= market_trend*0.10 and property_age>15:\n",
    "        discount = property_price*0.10\n",
    "        property_price = property_price - discount\n",
    "        print(\"New price after discount allowed is: \",property_price)\n",
    "\n",
    "elif luxury == \"Yes\":\n",
    "    property_price = property_price + fixed_premium\n",
    "    \n",
    "print(\"Final property price is: \",property_price)"
   ]
  },
  {
   "cell_type": "markdown",
   "id": "80020e87",
   "metadata": {},
   "source": [
    "# 7. Advanced Healthcare Prioritization System"
   ]
  },
  {
   "cell_type": "code",
   "execution_count": 1,
   "id": "1bfeb126",
   "metadata": {},
   "outputs": [
    {
     "name": "stdout",
     "output_type": "stream",
     "text": [
      "Enter your age:\n",
      "46\n",
      "Critical or Non-Critical:\n",
      "non-critical\n",
      "Enter Illness(chronic/communicable):\n",
      "communicable\n",
      "Moderate Priority\n"
     ]
    }
   ],
   "source": [
    "age = int(input(\"Enter your age:\\n\"))\n",
    "condition = input(\"Critical or Non-Critical:\\n\")\n",
    "illness = input(\"Enter Illness(chronic/communicable):\\n\")\n",
    "\n",
    "if age>70 and illness == \"chronic\":\n",
    "    print(\"Top Priority\")\n",
    "\n",
    "elif condition == \"critical\"  and illess == \"chronic\":\n",
    "    print(\"High Priority\")\n",
    "    \n",
    "elif condition == \"non-critical\" and illness == \"communicable\":\n",
    "    print(\"Moderate Priority\")\n",
    "    \n",
    "else:\n",
    "    print(\"Low Priority\")"
   ]
  },
  {
   "cell_type": "markdown",
   "id": "531b3f8d",
   "metadata": {},
   "source": [
    "# 8. Advanced Marketing Campaign Segmentation"
   ]
  },
  {
   "cell_type": "code",
   "execution_count": 1,
   "id": "9697a89f",
   "metadata": {},
   "outputs": [
    {
     "name": "stdout",
     "output_type": "stream",
     "text": [
      "Enter money spent:\n",
      "6546\n",
      "Enter your engagement score(1-100):\n",
      "56\n",
      "Exclude the cumtomer\n"
     ]
    }
   ],
   "source": [
    "# For a marketing campaign:\n",
    "# If the customer has spent over $5,000 in the last year and their engagement score exceeds 80, target them with a \"Premium Rewards Campaign.\"\n",
    "# If the customer has spent between $1,000 and $5,000 and their engagement score is between 50 and 80, target them with a \"Loyalty Program.\"\n",
    "# If the customer has spent less than $1,000, but their engagement score exceeds 90, target them with a \"Re-engagement Campaign.\"\n",
    "# Otherwise, exclude the customer from the campaign.\n",
    "\n",
    "spent = int(input(\"Enter money spent:\\n\"))\n",
    "engagement_score = int(input(\"Enter your engagement score(1-100):\\n\"))\n",
    "\n",
    "if spent > 5000 and engagement_score >80:\n",
    "    print(\"Premium Reward\")\n",
    "\n",
    "elif 1000<spent<5000 and 50<engagement_score<80:\n",
    "    print(\"Loyalty Program\")\n",
    "\n",
    "elif spent<1000 and engagement_score > 90:\n",
    "    print(\"Re-engagement Campaign\")\n",
    "\n",
    "else:\n",
    "    print(\"Exclude the cumtomer\")"
   ]
  },
  {
   "cell_type": "markdown",
   "id": "43279855",
   "metadata": {},
   "source": [
    "# Dict"
   ]
  },
  {
   "cell_type": "markdown",
   "id": "e12ac6d0",
   "metadata": {},
   "source": [
    "# Q1"
   ]
  },
  {
   "cell_type": "code",
   "execution_count": 2,
   "id": "736441ac",
   "metadata": {},
   "outputs": [
    {
     "data": {
      "text/plain": [
       "'Not Available'"
      ]
     },
     "execution_count": 2,
     "metadata": {},
     "output_type": "execute_result"
    }
   ],
   "source": [
    "a = {\n",
    "    \"d\":\"no\"\n",
    "}\n",
    "\n",
    "a.get(\"discount\",\"Not Available\")\n"
   ]
  },
  {
   "cell_type": "markdown",
   "id": "ec479419",
   "metadata": {},
   "source": [
    "# Q2"
   ]
  },
  {
   "cell_type": "code",
   "execution_count": 14,
   "id": "d3ba69cf",
   "metadata": {},
   "outputs": [
    {
     "name": "stdout",
     "output_type": "stream",
     "text": [
      "Price is lower than cost\n",
      "Price is lower than cost\n"
     ]
    }
   ],
   "source": [
    "b = {\n",
    "    \"price\":1,\n",
    "    \"cost\":2\n",
    "}\n",
    "\n",
    "if b.get(\"price\") > b.get(\"cost\"):\n",
    "    print(\"Price is higher than cost\")\n",
    "    \n",
    "elif b.get(\"price\") < b.get(\"cost\"):\n",
    "    print(\"Price is lower than cost\")\n",
    "\n",
    "elif b.get(\"price\") == b.get(\"cost\"):\n",
    "    print(\"price is equal to cost\")\n",
    "    \n",
    "\n",
    "# Another method\n",
    "\n",
    "b = {\n",
    "    \"price\":1,\n",
    "    \"cost\":2\n",
    "}\n",
    "\n",
    "if b[\"price\"] > b[\"cost\"]:\n",
    "    print(\"Price is higher than cost\")\n",
    "    \n",
    "elif b[\"price\"] < b[\"cost\"]:\n",
    "    print(\"Price is lower than cost\")\n",
    "\n",
    "elif b[\"price\"] == b[\"cost\"]:\n",
    "    print(\"price is equal to cost\")\n",
    "    \n"
   ]
  },
  {
   "cell_type": "markdown",
   "id": "a307ea15",
   "metadata": {},
   "source": [
    "# Q3"
   ]
  },
  {
   "cell_type": "code",
   "execution_count": 10,
   "id": "bd319601",
   "metadata": {},
   "outputs": [
    {
     "data": {
      "text/plain": [
       "10000"
      ]
     },
     "execution_count": 10,
     "metadata": {},
     "output_type": "execute_result"
    }
   ],
   "source": [
    "c = {\n",
    "    \"employee\":{\"salary\":10000,\n",
    "               \"age\":21},\n",
    "    \"designation\":\"Monkey\"\n",
    "}\n",
    "\n",
    "c[\"employee\"][\"salary\"]"
   ]
  },
  {
   "cell_type": "markdown",
   "id": "8d8d4784",
   "metadata": {},
   "source": [
    "# Q4"
   ]
  },
  {
   "cell_type": "code",
   "execution_count": 25,
   "id": "5e5004aa",
   "metadata": {},
   "outputs": [
    {
     "name": "stdout",
     "output_type": "stream",
     "text": [
      "120000.0 on salary > 500000\n",
      "30000.0 on salary between 250000 and 500000\n",
      "5000.0 on salary < 2500000\n"
     ]
    }
   ],
   "source": [
    "d = {\n",
    "    \"income\":[600000,300000,100000]\n",
    "}\n",
    "\n",
    "tax = 0\n",
    "n = 0\n",
    "\n",
    "for i in d[\"income\"]:\n",
    "    if d[\"income\"][n] > 500000:\n",
    "        tax = d[\"income\"][n]*0.2\n",
    "        print(tax,\"on salary > 500000\")\n",
    "        n += 1\n",
    "\n",
    "    elif 250000 <= d[\"income\"][n] <= 500000:\n",
    "        tax = d[\"income\"][n]*0.1\n",
    "        print(tax,\"on salary between 250000 and 500000\")\n",
    "        n += 1\n",
    "\n",
    "    elif d[\"income\"][n] < 250000:\n",
    "        tax = d[\"income\"][n]*0.05\n",
    "        print(tax,\"on salary < 2500000\")\n",
    "        n += 1"
   ]
  },
  {
   "cell_type": "markdown",
   "id": "8f3b8c09",
   "metadata": {},
   "source": [
    "# Q5"
   ]
  },
  {
   "cell_type": "code",
   "execution_count": 45,
   "id": "43c43fd1",
   "metadata": {},
   "outputs": [
    {
     "name": "stdout",
     "output_type": "stream",
     "text": [
      "child\n",
      "adult\n",
      "adult\n",
      "senior\n"
     ]
    }
   ],
   "source": [
    "e = {\n",
    "    \"age\":[12,23,54,61]\n",
    "}\n",
    "\n",
    "n = 0\n",
    "\n",
    "for i in e[\"age\"]:\n",
    "    if 0 < e[\"age\"][n] <= 12:\n",
    "        print(\"child\")\n",
    "        n += 1\n",
    "\n",
    "    elif 13 <= e[\"age\"][n] <= 19:\n",
    "        print(\"teen\")\n",
    "        n += 1\n",
    "\n",
    "    elif 20 <= e[\"age\"][n] <= 59:\n",
    "        print(\"adult\")\n",
    "        n += 1\n",
    "\n",
    "    elif e[\"age\"][n] > 60:\n",
    "        print(\"senior\")\n",
    "        n += 1        "
   ]
  },
  {
   "cell_type": "markdown",
   "id": "e21e94af",
   "metadata": {},
   "source": [
    "# Q6"
   ]
  },
  {
   "cell_type": "code",
   "execution_count": 1,
   "id": "0e549c49",
   "metadata": {},
   "outputs": [
    {
     "name": "stdout",
     "output_type": "stream",
     "text": [
      "Yes\n"
     ]
    }
   ],
   "source": [
    "f = {\n",
    "    \"name\":\"admin\"\n",
    "}\n",
    "\n",
    "if f.get(\"name\") == \"admin\":\n",
    "    print(\"Yes\")"
   ]
  },
  {
   "cell_type": "markdown",
   "id": "7476c5a3",
   "metadata": {},
   "source": [
    "# Q7"
   ]
  },
  {
   "cell_type": "code",
   "execution_count": 23,
   "id": "1df0c6d1",
   "metadata": {},
   "outputs": [
    {
     "name": "stdout",
     "output_type": "stream",
     "text": [
      "HELLO WORLD\n"
     ]
    }
   ],
   "source": [
    "g = {\"mode\": \"upper\",\n",
    "        \"message\": \"Hello World\"\n",
    "       }\n",
    "\n",
    "if g[\"mode\"] == \"lower\":\n",
    "    print(g[\"message\"].lower())\n",
    "    \n",
    "elif g[\"mode\"] == \"upper\":\n",
    "    print(g[\"message\"].upper())\n",
    "    \n",
    "else:\n",
    "    print(\"Invalid mode\")\n"
   ]
  },
  {
   "cell_type": "markdown",
   "id": "c342fb5c",
   "metadata": {},
   "source": [
    "# Q8"
   ]
  },
  {
   "cell_type": "code",
   "execution_count": 37,
   "id": "c7b9092a",
   "metadata": {},
   "outputs": [
    {
     "name": "stdout",
     "output_type": "stream",
     "text": [
      "not valid\n"
     ]
    }
   ],
   "source": [
    "h = {\n",
    "    \"username\":\"monkey_100\"\n",
    "}\n",
    "\n",
    "y = \"abcdefghijklmnopqrstuvwxyzABCDEFGHIJKLMNOPQRSTUVWXYZ1234567890_\"\n",
    "\n",
    "if h[\"username\"].isalpha() and h[\"username\"].isdigit():\n",
    "    print(\"valid\")\n",
    "    \n",
    "else:\n",
    "    print(\"not valid\")"
   ]
  },
  {
   "cell_type": "markdown",
   "id": "b419ddbd",
   "metadata": {},
   "source": [
    "# Q9 Incorrect"
   ]
  },
  {
   "cell_type": "code",
   "execution_count": 25,
   "id": "62f1fc09",
   "metadata": {},
   "outputs": [
    {
     "name": "stdout",
     "output_type": "stream",
     "text": [
      "medium\n"
     ]
    }
   ],
   "source": [
    "dict = {\n",
    "    \"password\":\"India@\"\n",
    "}\n",
    "\n",
    "a = dict[\"password\"]\n",
    "b = \"!@#$%^&*\"\n",
    "\n",
    "if b in a:\n",
    "    print(\"strong\")  \n",
    "elif a.isdigit():\n",
    "    print(\"weak\")  \n",
    "else:\n",
    "    print(\"medium\")"
   ]
  },
  {
   "cell_type": "markdown",
   "id": "8e5b9d3a",
   "metadata": {},
   "source": [
    "# Q10"
   ]
  },
  {
   "cell_type": "code",
   "execution_count": 2,
   "id": "d2910bb8",
   "metadata": {},
   "outputs": [
    {
     "name": "stdout",
     "output_type": "stream",
     "text": [
      "filename: as.png\n",
      "Image File\n"
     ]
    }
   ],
   "source": [
    "a = input(\"filename: \")\n",
    "\n",
    "if a.endswith(\".txt\"):\n",
    "    print(\"Text File\")\n",
    "elif a.endswith(\".jpg\") or a.endswith(\".png\"):\n",
    "    print(\"Image File\")"
   ]
  },
  {
   "cell_type": "markdown",
   "id": "90f8de8e",
   "metadata": {},
   "source": [
    "# Q11"
   ]
  },
  {
   "cell_type": "code",
   "execution_count": 4,
   "id": "40dec8ab",
   "metadata": {},
   "outputs": [
    {
     "name": "stdout",
     "output_type": "stream",
     "text": [
      "odd\n",
      "even\n",
      "odd\n"
     ]
    }
   ],
   "source": [
    "dict = {\n",
    "    \"number\":(1,2,3)\n",
    "}\n",
    "b = dict[\"number\"]\n",
    "\n",
    "for i in b:\n",
    "    if i%2==0:\n",
    "        print(\"even\")\n",
    "    else:\n",
    "        print(\"odd\")"
   ]
  },
  {
   "cell_type": "markdown",
   "id": "fa0d0c89",
   "metadata": {},
   "source": [
    "# Q12"
   ]
  },
  {
   "cell_type": "code",
   "execution_count": 7,
   "id": "4b9b5506",
   "metadata": {},
   "outputs": [
    {
     "name": "stdout",
     "output_type": "stream",
     "text": [
      "Enter password: 123\n",
      "correct\n"
     ]
    }
   ],
   "source": [
    "password = \"123\"\n",
    "\n",
    "for i in range(3):\n",
    "    password_input = input(\"Enter password: \")\n",
    "    if password_input==\"123\":\n",
    "        print(\"correct\")\n",
    "        break\n",
    "    else:\n",
    "        print(\"incorrect\")"
   ]
  },
  {
   "cell_type": "markdown",
   "id": "862c6416",
   "metadata": {},
   "source": [
    "# Q13"
   ]
  },
  {
   "cell_type": "code",
   "execution_count": 9,
   "id": "b4995044",
   "metadata": {},
   "outputs": [
    {
     "name": "stdout",
     "output_type": "stream",
     "text": [
      "enter temp: 45\n",
      "heatwave warning\n"
     ]
    }
   ],
   "source": [
    "temp = int(input(\"enter temp: \"))\n",
    "\n",
    "if temp>40:\n",
    "    print(\"heatwave warning\")\n",
    "elif 30<temp<40:\n",
    "    print(\"hot\")\n",
    "else:\n",
    "    print(\"normal\")"
   ]
  },
  {
   "cell_type": "markdown",
   "id": "25d2b99e",
   "metadata": {},
   "source": [
    "# Q14"
   ]
  },
  {
   "cell_type": "code",
   "execution_count": 10,
   "id": "b1e8f2a7",
   "metadata": {},
   "outputs": [
    {
     "name": "stdout",
     "output_type": "stream",
     "text": [
      "enter temp: 123412\n",
      "98729.6\n"
     ]
    }
   ],
   "source": [
    "purchase_amount = int(input(\"enter temp: \"))\n",
    "\n",
    "if purchase_amount>5000:\n",
    "    discount = purchase_amount*0.20\n",
    "    purchase_amount = purchase_amount - discount\n",
    "    print(purchase_amount)\n",
    "elif 2000<purchase_amount<5000:\n",
    "    discount = purchase_amount*0.10\n",
    "    purchase_amount = purchase_amount - discount\n",
    "    print(purchase_amount)\n",
    "else:\n",
    "    print(\"no discount\")"
   ]
  },
  {
   "cell_type": "markdown",
   "id": "91057e6f",
   "metadata": {},
   "source": [
    "# Q15"
   ]
  },
  {
   "cell_type": "code",
   "execution_count": 3,
   "id": "0fbc09f0",
   "metadata": {},
   "outputs": [
    {
     "name": "stdout",
     "output_type": "stream",
     "text": [
      "enter account type: GOLD\n",
      "enter balance: 111111111\n",
      "Premium\n"
     ]
    }
   ],
   "source": [
    "account_type = input(\"enter account type: \")\n",
    "balance = int(input(\"enter balance: \"))\n",
    "\n",
    "if account_type.lower() == \"gold\" and balance > 10000:\n",
    "    print(\"Premium\")\n",
    "else:\n",
    "    print(\"standard access\")"
   ]
  },
  {
   "cell_type": "markdown",
   "id": "49c585b5",
   "metadata": {},
   "source": [
    "# Q16"
   ]
  },
  {
   "cell_type": "code",
   "execution_count": 8,
   "id": "209127f2",
   "metadata": {},
   "outputs": [
    {
     "name": "stdout",
     "output_type": "stream",
     "text": [
      "complete\n"
     ]
    }
   ],
   "source": [
    "dict = {\n",
    "    \"name\":\"a\",\n",
    "    \"email\":\"b\",\n",
    "    \"phone\":12\n",
    "}\n",
    "\n",
    "if \"name\" in dict and \"email\" in dict and \"phone\" in dict:\n",
    "    print(\"complete\")\n",
    "    \n",
    "else:\n",
    "    print(\"incomplete\")"
   ]
  },
  {
   "cell_type": "markdown",
   "id": "96036f3f",
   "metadata": {},
   "source": [
    "# Q17"
   ]
  },
  {
   "cell_type": "code",
   "execution_count": 10,
   "id": "63fbd49d",
   "metadata": {},
   "outputs": [
    {
     "name": "stdout",
     "output_type": "stream",
     "text": [
      "enter age: 22\n",
      "enter vision status: CLEAr\n",
      "eligible\n"
     ]
    }
   ],
   "source": [
    "age = int(input(\"enter age: \"))\n",
    "vision = input(\"enter vision status: \")\n",
    "\n",
    "if age>=18 and vision.lower() == \"clear\":\n",
    "    print(\"eligible\")\n",
    "else:\n",
    "    print(\"not eligible\")"
   ]
  },
  {
   "cell_type": "markdown",
   "id": "eec8e7b5",
   "metadata": {},
   "source": [
    "# Q18"
   ]
  },
  {
   "cell_type": "code",
   "execution_count": 13,
   "id": "090e1d66",
   "metadata": {},
   "outputs": [
    {
     "name": "stdout",
     "output_type": "stream",
     "text": [
      "are you a smoker: true\n",
      "enter age: 56\n",
      "insurance premium is increased by 25%\n"
     ]
    }
   ],
   "source": [
    "smoker = input(\"are you a smoker: \")\n",
    "age = int(input(\"enter age: \"))\n",
    "\n",
    "if smoker.lower()==\"true\" and age>50:\n",
    "    print(\"insurance premium is increased by 25%\")"
   ]
  },
  {
   "cell_type": "markdown",
   "id": "d9d2dc72",
   "metadata": {},
   "source": [
    "# Q19"
   ]
  },
  {
   "cell_type": "code",
   "execution_count": 14,
   "id": "affe8260",
   "metadata": {},
   "outputs": [
    {
     "name": "stdout",
     "output_type": "stream",
     "text": [
      "Enter Os: windows\n",
      "enter ram: 9\n",
      "software compatibility\n"
     ]
    }
   ],
   "source": [
    "os = input(\"Enter Os: \")\n",
    "ram = int(input(\"enter ram: \"))\n",
    "\n",
    "if os.lower() == \"windows\" and ram>8:\n",
    "    print(\"software compatibility\")\n",
    "else:\n",
    "    print(\"upgrade required\")"
   ]
  },
  {
   "cell_type": "markdown",
   "id": "411ccbd0",
   "metadata": {},
   "source": [
    "# Q20"
   ]
  },
  {
   "cell_type": "code",
   "execution_count": 17,
   "id": "95b5d5d1",
   "metadata": {},
   "outputs": [
    {
     "name": "stdout",
     "output_type": "stream",
     "text": [
      "enter username: anu\n",
      "enter password: 123\n",
      "login successful\n"
     ]
    }
   ],
   "source": [
    "username = input(\"enter username: \")\n",
    "password = input(\"enter password: \")\n",
    "\n",
    "if username == \"anu\" and password != \"123\":\n",
    "    print(\"wrong password\")\n",
    "elif username != \"anu\" and password != \"123\":\n",
    "    print(\"invalid credentials\")\n",
    "elif username == \"anu\" and password == \"123\":\n",
    "    print(\"login successful\")\n"
   ]
  },
  {
   "cell_type": "markdown",
   "id": "b17acfe6",
   "metadata": {},
   "source": [
    "# Lists:"
   ]
  },
  {
   "cell_type": "code",
   "execution_count": 1,
   "id": "6c05400c",
   "metadata": {},
   "outputs": [
    {
     "data": {
      "text/plain": [
       "15"
      ]
     },
     "execution_count": 1,
     "metadata": {},
     "output_type": "execute_result"
    }
   ],
   "source": [
    "# 1 Write a program to find the sum of all elements in a list.\n",
    "a = [1,2,3,4,5]\n",
    "b = 0\n",
    "\n",
    "for i in a:\n",
    "    b = b + i\n",
    "b"
   ]
  },
  {
   "cell_type": "code",
   "execution_count": 6,
   "id": "5f7375fc",
   "metadata": {},
   "outputs": [
    {
     "data": {
      "text/plain": [
       "5"
      ]
     },
     "execution_count": 6,
     "metadata": {},
     "output_type": "execute_result"
    }
   ],
   "source": [
    "# 2 Create a list of numbers and find the maximum value using a for loop.\n",
    "a = [1,2,3,4,5]\n",
    "b = 0\n",
    "for i in a:\n",
    "    if i>b:\n",
    "        b = i\n",
    "b"
   ]
  },
  {
   "cell_type": "code",
   "execution_count": 5,
   "id": "f28314eb",
   "metadata": {},
   "outputs": [
    {
     "data": {
      "text/plain": [
       "2"
      ]
     },
     "execution_count": 5,
     "metadata": {},
     "output_type": "execute_result"
    }
   ],
   "source": [
    "# 3 Given a list of words, count the number of words that start with the letter 'A'.\n",
    "a = [\"aapple\",\"mango\",\"attribute\"]\n",
    "b = 0\n",
    "for i in a:\n",
    "    if i[0]==\"a\":\n",
    "        b+=1\n",
    "b"
   ]
  },
  {
   "cell_type": "code",
   "execution_count": 29,
   "id": "869cb838",
   "metadata": {},
   "outputs": [
    {
     "name": "stdout",
     "output_type": "stream",
     "text": [
      "3.0\n"
     ]
    }
   ],
   "source": [
    "# 4 Write a program to find the average of all the elements in a list.\n",
    "a = [1,2,3,4,5]\n",
    "b = 0\n",
    "c = 0\n",
    "for i in a:\n",
    "    b += i\n",
    "    c += 1\n",
    "print(b/c)"
   ]
  },
  {
   "cell_type": "code",
   "execution_count": 30,
   "id": "10ba28b9",
   "metadata": {},
   "outputs": [
    {
     "data": {
      "text/plain": [
       "120"
      ]
     },
     "execution_count": 30,
     "metadata": {},
     "output_type": "execute_result"
    }
   ],
   "source": [
    "# 5 Create a list of numbers and calculate the product of all the elements.\n",
    "a = [1,2,3,4,5]\n",
    "b = 1\n",
    "\n",
    "for i in a:\n",
    "    b *= i\n",
    "b"
   ]
  },
  {
   "cell_type": "code",
   "execution_count": 61,
   "id": "9ccf2c1a",
   "metadata": {},
   "outputs": [
    {
     "name": "stdout",
     "output_type": "stream",
     "text": [
      "nohtyp\n",
      "wen\n"
     ]
    }
   ],
   "source": [
    "# 6 Given a list of names, print each name in reverse order.\n",
    "a = [\"python\",\"new\"]\n",
    "\n",
    "for i in a:\n",
    "    print(i[::-1])"
   ]
  },
  {
   "cell_type": "code",
   "execution_count": 73,
   "id": "85dd32e0",
   "metadata": {},
   "outputs": [
    {
     "name": "stdout",
     "output_type": "stream",
     "text": [
      "wennohtyp\n",
      "[5, 4, 3, 2, 1]\n"
     ]
    }
   ],
   "source": [
    "# 7 Write a program to reverse a list.\n",
    "a = [\"python\",\"new\"]\n",
    "b = \"\"\n",
    "for i in a:\n",
    "    for j in i:\n",
    "        b = j+b\n",
    "print(b)\n",
    "\n",
    "c = [1,2,3,4,5]\n",
    "d = []\n",
    "for i in c:\n",
    "    d.insert(0,i)\n",
    "print(d)"
   ]
  },
  {
   "cell_type": "code",
   "execution_count": 80,
   "id": "9a16c9b6",
   "metadata": {},
   "outputs": [
    {
     "name": "stdout",
     "output_type": "stream",
     "text": [
      "[2, 4, 6, 8]\n"
     ]
    },
    {
     "data": {
      "text/plain": [
       "5.0"
      ]
     },
     "execution_count": 80,
     "metadata": {},
     "output_type": "execute_result"
    }
   ],
   "source": [
    "# 8 Create a list of even numbers and find their average.\n",
    "a = [1,2,3,4,5,6,7,8]\n",
    "d = []\n",
    "b = 0\n",
    "c = 0\n",
    "\n",
    "for i in a:\n",
    "    if i%2==0:\n",
    "        d.append(i)\n",
    "\n",
    "for i in d:\n",
    "    b += i\n",
    "    c += 1\n",
    "print(d)\n",
    "b/c"
   ]
  },
  {
   "cell_type": "code",
   "execution_count": 84,
   "id": "72bad515",
   "metadata": {},
   "outputs": [
    {
     "data": {
      "text/plain": [
       "3"
      ]
     },
     "execution_count": 84,
     "metadata": {},
     "output_type": "execute_result"
    }
   ],
   "source": [
    "# 9 Given a list of words, count the number of words that end with the letter 's'.\n",
    "a = [\"appels\",\"mangos\",\"planes\"]\n",
    "b = 0\n",
    "\n",
    "for i in a:\n",
    "    if i[-1]==\"s\":\n",
    "        b += 1\n",
    "b"
   ]
  },
  {
   "cell_type": "code",
   "execution_count": 89,
   "id": "97e86ba2",
   "metadata": {},
   "outputs": [
    {
     "name": "stdout",
     "output_type": "stream",
     "text": [
      "palindrome\n",
      "palindrome\n",
      "not palindrome\n",
      "palindrome\n",
      "not palindrome\n"
     ]
    }
   ],
   "source": [
    "# 10 Check if a list is a palindrome (reads the same forwards and backwards).\n",
    "a = [\"civic\",\"level\", \"apple\",\"refer\",\"mango\"]\n",
    "\n",
    "for i in a:\n",
    "        if i == i[::-1]:\n",
    "            print(\"palindrome\")\n",
    "        else:\n",
    "            print(\"not palindrome\")"
   ]
  },
  {
   "cell_type": "code",
   "execution_count": 93,
   "id": "804da62d",
   "metadata": {
    "scrolled": true
   },
   "outputs": [
    {
     "name": "stdout",
     "output_type": "stream",
     "text": [
      "['apple', 'mango']\n",
      "[1, 2, 3, 4, 5]\n"
     ]
    }
   ],
   "source": [
    "# 11 Remove all duplicate elements from a list.\n",
    "a = [\"apple\",\"mango\",\"apple\"]\n",
    "b = []  \n",
    "\n",
    "for i in a:  \n",
    "    if i not in b:  \n",
    "        b.append(i)  \n",
    "\n",
    "print(b)\n",
    "\n",
    "a = [1, 2, 3, 2, 4, 1, 5]  \n",
    "b = []  \n",
    "\n",
    "for i in a:  \n",
    "    if i not in b:  \n",
    "        b.append(i)  \n",
    "\n",
    "print(b)"
   ]
  },
  {
   "cell_type": "markdown",
   "id": "f22c3690",
   "metadata": {},
   "source": [
    "# Strings:\n",
    "\n",
    "9. Count the number of words with a specific length in a sentence.\n",
    "10. Find the first non-repeated character in a string.\n",
    "11. Reverse the order of words in a sentence."
   ]
  },
  {
   "cell_type": "code",
   "execution_count": 2,
   "id": "0f56b465",
   "metadata": {},
   "outputs": [
    {
     "data": {
      "text/plain": [
       "2"
      ]
     },
     "execution_count": 2,
     "metadata": {},
     "output_type": "execute_result"
    }
   ],
   "source": [
    "# 1 Write a program to count the number of vowels in a given string.\n",
    "a = 'apple'\n",
    "b = 0\n",
    "c = \"aeiou\"\n",
    "for i in a:\n",
    "    if i in c:\n",
    "        b = b+1\n",
    "b"
   ]
  },
  {
   "cell_type": "code",
   "execution_count": 3,
   "id": "e3ac3c95",
   "metadata": {},
   "outputs": [
    {
     "data": {
      "text/plain": [
       "'elppa'"
      ]
     },
     "execution_count": 3,
     "metadata": {},
     "output_type": "execute_result"
    }
   ],
   "source": [
    "# 2 Given a string, reverse it using a for loop.\n",
    "a = \"apple\"\n",
    "b =\"\"\n",
    "for i in a:\n",
    "    b = i+b\n",
    "b"
   ]
  },
  {
   "cell_type": "code",
   "execution_count": 4,
   "id": "d1146ca5",
   "metadata": {},
   "outputs": [
    {
     "name": "stdout",
     "output_type": "stream",
     "text": [
      "palindrome\n"
     ]
    }
   ],
   "source": [
    "# 3 Create a string and check if it is a palindrome (reads the same forwards and backwards).\n",
    "a = \"refer\"\n",
    "if a==a[::-1]:\n",
    "    print(\"palindrome\")\n",
    "else:\n",
    "    print(\"not palindrome\")"
   ]
  },
  {
   "cell_type": "code",
   "execution_count": 1,
   "id": "29a4b405",
   "metadata": {},
   "outputs": [
    {
     "data": {
      "text/plain": [
       "'appleisafruit'"
      ]
     },
     "execution_count": 1,
     "metadata": {},
     "output_type": "execute_result"
    }
   ],
   "source": [
    "# 4 Write a program to remove all spaces from a string using a for loop.\n",
    "a = \"apple is a fruit\"\n",
    "b = \"abcdefghijklmnopqrstuvwxyz\"\n",
    "c = \"\"\n",
    "\n",
    "for i in a:\n",
    "    if i in b:\n",
    "        c = c+i\n",
    "c"
   ]
  },
  {
   "cell_type": "code",
   "execution_count": 6,
   "id": "761b0603",
   "metadata": {},
   "outputs": [
    {
     "name": "stdout",
     "output_type": "stream",
     "text": [
      "Enter specific alphabet: p\n"
     ]
    },
    {
     "data": {
      "text/plain": [
       "2"
      ]
     },
     "execution_count": 6,
     "metadata": {},
     "output_type": "execute_result"
    }
   ],
   "source": [
    "# 5 Count the number of occurrences of a specific character in a string.\n",
    "a = \"apple is a fruit\"\n",
    "spe_alp = input(\"Enter specific alphabet: \")\n",
    "b = 0\n",
    "\n",
    "for i in a:\n",
    "    if i==spe_alp:\n",
    "        b = b+1\n",
    "b"
   ]
  },
  {
   "cell_type": "code",
   "execution_count": 8,
   "id": "0226a0f0",
   "metadata": {},
   "outputs": [
    {
     "data": {
      "text/plain": [
       "'apple is a fruit  '"
      ]
     },
     "execution_count": 8,
     "metadata": {},
     "output_type": "execute_result"
    }
   ],
   "source": [
    "# 6 Remove all special characters and punctuation from a string.\n",
    "a = \"apple, is a fruit !@#$ \"\n",
    "b = \"abcdefghijklmnopqrstuvwxyz \"\n",
    "c = \"\"\n",
    "\n",
    "for i in a:\n",
    "    if i in b:\n",
    "        c = c+i\n",
    "c"
   ]
  },
  {
   "cell_type": "code",
   "execution_count": 18,
   "id": "a8caddcd",
   "metadata": {},
   "outputs": [
    {
     "data": {
      "text/plain": [
       "''"
      ]
     },
     "execution_count": 18,
     "metadata": {},
     "output_type": "execute_result"
    }
   ],
   "source": [
    "# 7 Count the number of times a specific substring appears in a larger string.\n",
    "a = \"apple apple is a fruit\"\n",
    "b = 0\n",
    "c = \"abcdefghijklmnopqrstuvwxyz \"\n",
    "d = \"\"\n",
    "\n",
    "for i in a:\n",
    "    if i.endswith(c):\n",
    "        d = d+i\n",
    "d"
   ]
  },
  {
   "cell_type": "markdown",
   "id": "a1c0cdf9",
   "metadata": {},
   "source": [
    "# Doubt"
   ]
  },
  {
   "cell_type": "code",
   "execution_count": 1,
   "id": "80516617",
   "metadata": {},
   "outputs": [
    {
     "name": "stdout",
     "output_type": "stream",
     "text": [
      "apple\n"
     ]
    },
    {
     "data": {
      "text/plain": [
       "2"
      ]
     },
     "execution_count": 1,
     "metadata": {},
     "output_type": "execute_result"
    }
   ],
   "source": [
    "# 7 Count the number of times a specific substring appears in a larger string.\n",
    "a = \"apple apple is a fruit\"\n",
    "b = 0\n",
    "c = a.split()\n",
    "t = input()\n",
    "for i in c:\n",
    "    if i == t:\n",
    "        b = b+1\n",
    "b"
   ]
  },
  {
   "cell_type": "code",
   "execution_count": 7,
   "id": "6f6b21dc",
   "metadata": {},
   "outputs": [
    {
     "name": "stdout",
     "output_type": "stream",
     "text": [
      "aops\n"
     ]
    }
   ],
   "source": [
    "# 8 Given a string, print every third character.\n",
    "a = \"apoapos\"\n",
    "\n",
    "print(a[::2])"
   ]
  },
  {
   "cell_type": "markdown",
   "id": "bf87eda4",
   "metadata": {},
   "source": [
    "# Doubt"
   ]
  },
  {
   "cell_type": "code",
   "execution_count": 6,
   "id": "3fd72d05",
   "metadata": {
    "scrolled": true
   },
   "outputs": [
    {
     "data": {
      "text/plain": [
       "2"
      ]
     },
     "execution_count": 6,
     "metadata": {},
     "output_type": "execute_result"
    }
   ],
   "source": [
    "# 9 Count the number of words with a specific length in a sentence.\n",
    "a = \"apple is a fruit\"\n",
    "b = 0\n",
    "c = a.split()\n",
    "r=5\n",
    "for i in c:\n",
    "    if len(i)==r:\n",
    "        b+=1\n",
    "b"
   ]
  },
  {
   "cell_type": "code",
   "execution_count": null,
   "id": "b9266243",
   "metadata": {},
   "outputs": [],
   "source": [
    "# 10 Find the first non-repeated character in a string.\n",
    "a = \"apple apple is a fruit\"\n",
    "\n",
    "for i in a:\n",
    "    if i "
   ]
  },
  {
   "cell_type": "markdown",
   "id": "917e0785",
   "metadata": {},
   "source": [
    "# Tuples:"
   ]
  },
  {
   "cell_type": "code",
   "execution_count": 2,
   "id": "0ed66a42",
   "metadata": {},
   "outputs": [
    {
     "data": {
      "text/plain": [
       "15"
      ]
     },
     "execution_count": 2,
     "metadata": {},
     "output_type": "execute_result"
    }
   ],
   "source": [
    "# 1 Create a tuple of numbers and find the sum of all the elements.\n",
    "a = (1,2,3,4,5)\n",
    "b = 0\n",
    "for i in a:\n",
    "    b = b+i\n",
    "b"
   ]
  },
  {
   "cell_type": "code",
   "execution_count": 31,
   "id": "d0d126e6",
   "metadata": {},
   "outputs": [
    {
     "name": "stdout",
     "output_type": "stream",
     "text": [
      "alphabet\n"
     ]
    }
   ],
   "source": [
    "# 2 Given a tuple of words, find the word with the longest length.\n",
    "a = (\"apple\",\"alphabet\",\"mang\")\n",
    "b = 0\n",
    "for i in a:\n",
    "    if len(i)>b:\n",
    "        b = len(i)\n",
    "\n",
    "for j in a:\n",
    "    if b == len(j):\n",
    "        print(j)"
   ]
  },
  {
   "cell_type": "code",
   "execution_count": 33,
   "id": "f4bbfada",
   "metadata": {},
   "outputs": [
    {
     "name": "stdout",
     "output_type": "stream",
     "text": [
      "Enter Number: 2\n",
      "Enter Word: apple\n",
      "apple exists in tuple\n"
     ]
    }
   ],
   "source": [
    "# 3 Write a program to check if a specific element exists in a tuple.\n",
    "a = (1,\"apple\")\n",
    "b = int(input(\"Enter Number: \"))\n",
    "c = input(\"Enter Word: \")\n",
    "\n",
    "for i in a:\n",
    "    if i==b:\n",
    "        print(b,\"exists in tuple\")\n",
    "    if i==c:\n",
    "        print(c,\"exists in tuple\")\n"
   ]
  },
  {
   "cell_type": "code",
   "execution_count": 47,
   "id": "8092dbea",
   "metadata": {},
   "outputs": [
    {
     "name": "stdout",
     "output_type": "stream",
     "text": [
      "Enter Word: mango\n",
      "mango\n"
     ]
    },
    {
     "data": {
      "text/plain": [
       "'mango'"
      ]
     },
     "execution_count": 47,
     "metadata": {},
     "output_type": "execute_result"
    }
   ],
   "source": [
    "# 4 Find the index of a particular element in a tuple.\n",
    "a = (\"apple\",\"mango\",\"banana\")\n",
    "b = input(\"Enter Word: \")\n",
    "c = -1\n",
    "\n",
    "for i in a:\n",
    "    c = c+1\n",
    "    if i==b:\n",
    "        print(a[c])\n",
    "        break\n",
    "a[c]"
   ]
  },
  {
   "cell_type": "code",
   "execution_count": 49,
   "id": "02b07b4b",
   "metadata": {},
   "outputs": [
    {
     "data": {
      "text/plain": [
       "4"
      ]
     },
     "execution_count": 49,
     "metadata": {},
     "output_type": "execute_result"
    }
   ],
   "source": [
    "# 5 Given a tuple of numbers, count the number of odd numbers.\n",
    "a = (1,2,3,4,5,6,7)\n",
    "b = 0\n",
    "\n",
    "for i in a:\n",
    "    if i%2 != 0:\n",
    "        b += 1\n",
    "b"
   ]
  },
  {
   "cell_type": "code",
   "execution_count": 57,
   "id": "68d34817",
   "metadata": {
    "scrolled": true
   },
   "outputs": [
    {
     "data": {
      "text/plain": [
       "['apple', 'mango']"
      ]
     },
     "execution_count": 57,
     "metadata": {},
     "output_type": "execute_result"
    }
   ],
   "source": [
    "# 6 Find and print all the unique elements in a tuple.\n",
    "a = (\"apple\",\"mango\",\"apple\",\"mango\")\n",
    "b = []\n",
    "for i in a:\n",
    "    if i not in b:\n",
    "        b.append(i)\n",
    "b "
   ]
  },
  {
   "cell_type": "code",
   "execution_count": 78,
   "id": "78244e0a",
   "metadata": {},
   "outputs": [
    {
     "name": "stdout",
     "output_type": "stream",
     "text": [
      "no\n"
     ]
    }
   ],
   "source": [
    "# 7 Check if all elements in a tuple are equal.\n",
    "a = (1,1,1,1,1,2)\n",
    "b = a[0]\n",
    "c = True\n",
    "for i in a:\n",
    "    if i!=b:\n",
    "        c = False\n",
    "        break\n",
    "if c:\n",
    "    print(\"same\")\n",
    "else:\n",
    "    print(\"no\")"
   ]
  },
  {
   "cell_type": "code",
   "execution_count": 80,
   "id": "827bca2d",
   "metadata": {},
   "outputs": [
    {
     "name": "stdout",
     "output_type": "stream",
     "text": [
      "['apple', 'mango']\n",
      "[1, 2]\n"
     ]
    }
   ],
   "source": [
    "# 8 Create a tuple of mixed data types and separate elements into different lists based on their data type.\n",
    "a = (\"apple\",1,\"mango\",2)\n",
    "b = []\n",
    "c = []\n",
    "\n",
    "for i in a:\n",
    "    if type(i)==str:\n",
    "        b.append(i)\n",
    "    else:\n",
    "        c.append(i)\n",
    "print(b)\n",
    "print(c)"
   ]
  },
  {
   "cell_type": "code",
   "execution_count": 86,
   "id": "91bc56e1",
   "metadata": {},
   "outputs": [
    {
     "data": {
      "text/plain": [
       "3.1"
      ]
     },
     "execution_count": 86,
     "metadata": {},
     "output_type": "execute_result"
    }
   ],
   "source": [
    "# 9 Find the average of all elements in a tuple of floats.\n",
    "a = (1.1,2.1,3.1,4.1,5.1)\n",
    "b = 0\n",
    "c = 0\n",
    "\n",
    "for i in a:\n",
    "    b = b+i\n",
    "    c = c+1\n",
    "b/c"
   ]
  },
  {
   "cell_type": "markdown",
   "id": "1c0297ed",
   "metadata": {},
   "source": [
    "# Sets:"
   ]
  },
  {
   "cell_type": "code",
   "execution_count": 2,
   "id": "4a146300",
   "metadata": {},
   "outputs": [
    {
     "name": "stdout",
     "output_type": "stream",
     "text": [
      "3\n",
      "4\n",
      "5\n"
     ]
    }
   ],
   "source": [
    "# 1 Create two sets of numbers and find the intersection of the two sets using a for loop.\n",
    "a = {1,2,3,4,5}\n",
    "b = {3,4,5,6,7}\n",
    "\n",
    "for i in a:\n",
    "    if i in b:\n",
    "        print(i)"
   ]
  },
  {
   "cell_type": "code",
   "execution_count": 6,
   "id": "0fb0f701",
   "metadata": {},
   "outputs": [
    {
     "data": {
      "text/plain": [
       "['a', 'o', 'i', 'e']"
      ]
     },
     "execution_count": 6,
     "metadata": {},
     "output_type": "execute_result"
    }
   ],
   "source": [
    "# 2 Given a set of words, print all the unique vowels present in the words.\n",
    "a = {\"apple\",\"mango\",\"banana\",\"pine\"}\n",
    "b = (\"aeiou\")\n",
    "c = []\n",
    "for i in a:\n",
    "    for j in i:\n",
    "        if j in b:\n",
    "            if j not in c:\n",
    "                c.append(j) \n",
    "c"
   ]
  },
  {
   "cell_type": "code",
   "execution_count": 7,
   "id": "05581c52",
   "metadata": {},
   "outputs": [
    {
     "data": {
      "text/plain": [
       "[1, 2, 3]"
      ]
     },
     "execution_count": 7,
     "metadata": {},
     "output_type": "execute_result"
    }
   ],
   "source": [
    "# 3 Write a program to remove duplicates from a set using a for loop.\n",
    "a = {1,1,2,3}\n",
    "b = []\n",
    "for i in a:\n",
    "    if i not in b:\n",
    "        b.append(i)\n",
    "b"
   ]
  },
  {
   "cell_type": "code",
   "execution_count": 11,
   "id": "29e22efe",
   "metadata": {},
   "outputs": [
    {
     "data": {
      "text/plain": [
       "21"
      ]
     },
     "execution_count": 11,
     "metadata": {},
     "output_type": "execute_result"
    }
   ],
   "source": [
    "# 4 Calculate the union of two sets of numbers.\n",
    "a = {1, 2, 3, 4}\n",
    "b = {3, 4, 5, 6}\n",
    "c = []\n",
    "d = 0\n",
    "for i in a:\n",
    "    c.append(i)\n",
    "for i in b:\n",
    "    if i not in c:\n",
    "        c.append(i)\n",
    "\n",
    "for i in c:\n",
    "    d = d+i\n",
    "d"
   ]
  },
  {
   "cell_type": "code",
   "execution_count": 4,
   "id": "e3ce6f1a",
   "metadata": {},
   "outputs": [
    {
     "name": "stdout",
     "output_type": "stream",
     "text": [
      "[3, 4]\n"
     ]
    },
    {
     "data": {
      "text/plain": [
       "[5]"
      ]
     },
     "execution_count": 4,
     "metadata": {},
     "output_type": "execute_result"
    }
   ],
   "source": [
    "# 5 Check if one set is a subset of another set.\n",
    "a = {1, 2, 3, 4}\n",
    "b = {3,4,5}\n",
    "c = []\n",
    "d = []\n",
    "for i in b:\n",
    "    if i in a:\n",
    "        c.append(i)\n",
    "    else:\n",
    "        d.append(i)\n",
    "print(c)\n",
    "d"
   ]
  },
  {
   "cell_type": "code",
   "execution_count": 2,
   "id": "57675995",
   "metadata": {},
   "outputs": [
    {
     "data": {
      "text/plain": [
       "[1, 2, 5, 6]"
      ]
     },
     "execution_count": 2,
     "metadata": {},
     "output_type": "execute_result"
    }
   ],
   "source": [
    "# 6 Find the symmetric difference between two sets.\n",
    "a = {1, 2, 3, 4}\n",
    "b = {3, 4, 5, 6}\n",
    "c = []\n",
    "\n",
    "for i in a:\n",
    "    if i not in b:\n",
    "        c.append(i)\n",
    "\n",
    "for i in b:\n",
    "    if i not in a:\n",
    "        c.append(i)\n",
    "c"
   ]
  },
  {
   "cell_type": "code",
   "execution_count": 12,
   "id": "4cb679c0",
   "metadata": {},
   "outputs": [
    {
     "name": "stdout",
     "output_type": "stream",
     "text": [
      "6 is the largest number\n",
      "1 is the smallest number\n"
     ]
    }
   ],
   "source": [
    "# 7 Given a set of numbers, find the largest and smallest values.\n",
    "a = {1,2,3,4,5,6}\n",
    "b = 0\n",
    "for i in a:\n",
    "    if i>b:\n",
    "        b=i\n",
    "c=b\n",
    "for j in a:\n",
    "    if j<c:\n",
    "        c=j\n",
    "print(b,\"is the largest number\")\n",
    "print(c,\"is the smallest number\")"
   ]
  },
  {
   "cell_type": "code",
   "execution_count": 18,
   "id": "47af5c72",
   "metadata": {
    "scrolled": true
   },
   "outputs": [
    {
     "name": "stdout",
     "output_type": "stream",
     "text": [
      "blue\n",
      "red\n"
     ]
    }
   ],
   "source": [
    "# 8. Create a set of colors and print all the colors that contain the letter 'e'.\n",
    "a = {\"red\",\"black\",\"blue\"}\n",
    "for i in a:\n",
    "    for j in i:\n",
    "        if j==\"e\":\n",
    "            print(i)"
   ]
  },
  {
   "cell_type": "code",
   "execution_count": 46,
   "id": "a5583b1d",
   "metadata": {
    "scrolled": true
   },
   "outputs": [
    {
     "name": "stdout",
     "output_type": "stream",
     "text": [
      "2\n",
      "3\n",
      "np\n",
      "5\n",
      "np\n",
      "7\n",
      "np\n",
      "37\n"
     ]
    }
   ],
   "source": [
    "# 9. Count the number of prime numbers in a set of integers.\n",
    "a = {2,3,4,5,6,7,8,37}\n",
    "for i in a:\n",
    "    for j in range(2,i):\n",
    "        if i%j==0:\n",
    "            print(\"np\")\n",
    "            break\n",
    "    else:\n",
    "        print(i)\n",
    "        "
   ]
  },
  {
   "cell_type": "code",
   "execution_count": 52,
   "id": "9fda6b18",
   "metadata": {},
   "outputs": [
    {
     "name": "stdout",
     "output_type": "stream",
     "text": [
      "disjoint\n"
     ]
    }
   ],
   "source": [
    "# Q10 check if 2 sets are disjoint\n",
    "a = {1,2,3}\n",
    "b = {4,5,6}\n",
    "for i in a:\n",
    "    if i in b:\n",
    "        print(i,\"is common element in both sets\")\n",
    "        break\n",
    "else:\n",
    "    print(\"disjoint\")"
   ]
  },
  {
   "cell_type": "code",
   "execution_count": 69,
   "id": "e4ec2011",
   "metadata": {},
   "outputs": [
    {
     "name": "stdout",
     "output_type": "stream",
     "text": [
      "{1, 2, 4, 5}\n"
     ]
    }
   ],
   "source": [
    "# 11. Write a program to remove all elements from a set that are divisible by 3.\n",
    "a = {1, 2, 3, 4, 5}\n",
    "for i in list(a):  # Convert set to a list to avoid modification issues\n",
    "    if i % 3 == 0:\n",
    "        a.remove(i)\n",
    "print(a)"
   ]
  },
  {
   "cell_type": "markdown",
   "id": "6e89a650",
   "metadata": {},
   "source": [
    "# List"
   ]
  },
  {
   "cell_type": "code",
   "execution_count": 1,
   "id": "b9e118f4",
   "metadata": {},
   "outputs": [
    {
     "data": {
      "text/plain": [
       "4"
      ]
     },
     "execution_count": 1,
     "metadata": {},
     "output_type": "execute_result"
    }
   ],
   "source": [
    "# Q1 \n",
    "a = [76,77,78,50,51,52,49,48,47]\n",
    "im = 1\n",
    "tm = 0\n",
    "\n",
    "for i in range(1,len(a)):\n",
    "    if a[i] > a[i-1]:\n",
    "        im+=1\n",
    "        if im>tm:\n",
    "            \n",
    "    else:\n",
    "        im=0"
   ]
  },
  {
   "cell_type": "code",
   "execution_count": 6,
   "id": "f05d9cdc",
   "metadata": {},
   "outputs": [
    {
     "name": "stdout",
     "output_type": "stream",
     "text": [
      "0\n",
      "0\n",
      "1\n",
      "1\n",
      "0\n",
      "3\n"
     ]
    }
   ],
   "source": [
    "# Q2\n",
    "marks = [71,72,73,74,7,76,79,78]\n",
    "im = 0\n",
    "tim = 0\n",
    "dm = 0\n",
    "tdm = 0\n",
    "im_70 = 0\n",
    "tim_70 = 0\n",
    "\n",
    "for i in range(1,len(marks)):\n",
    "    if marks[i] > marks[i-1] and marks[i]<70 and marks[i-1]<70:\n",
    "        im+=1\n",
    "        if tim<im:\n",
    "            tim=im\n",
    "    else:\n",
    "        im = 0\n",
    "        \n",
    "for i in range(1,len(marks)):\n",
    "    if marks[i] < marks[i-1]:\n",
    "        dm+=1\n",
    "        if tdm<dm:\n",
    "            tdm=dm\n",
    "    else:\n",
    "        dm=0\n",
    "    \n",
    "for i in range(1,len(marks)):\n",
    "    if marks[i] > marks[i-1] and marks[i]>70 and marks[i-1]>70:\n",
    "        im_70 +=1\n",
    "        if tim_70<im_70:\n",
    "            tim_70=im_70\n",
    "    else:\n",
    "        im_70 = 0\n",
    "        \n",
    "print(im)\n",
    "print(tim)\n",
    "\n",
    "print(dm)\n",
    "print(tdm)\n",
    "\n",
    "print(im_70)\n",
    "print(tim_70)"
   ]
  },
  {
   "cell_type": "code",
   "execution_count": 1,
   "id": "25fd5d8f",
   "metadata": {},
   "outputs": [
    {
     "name": "stdout",
     "output_type": "stream",
     "text": [
      "2\n",
      "[70, 245, 250]\n",
      "250\n"
     ]
    }
   ],
   "source": [
    "# Q3\n",
    "traffic = [1050,980,1120,875,1300,1500,1250]\n",
    "c = 0\n",
    "c_d = 0\n",
    "d1 = 0\n",
    "tt = []\n",
    "d2 = 0\n",
    "\n",
    "for i in range(1,len(traffic)):\n",
    "    if traffic[i]>traffic[i-1]:\n",
    "        c+=1\n",
    "        if c_d<c:\n",
    "            c_d=c\n",
    "    else:\n",
    "        c=0\n",
    "print(c_d)\n",
    "for i in range(1,len(traffic)):\n",
    "    if traffic[i]<traffic[i-1]:\n",
    "        d1 = traffic[i-1] - traffic[i]\n",
    "        tt.append(d1)\n",
    "        \n",
    "for i in range(1,len(tt)):\n",
    "    if tt[i]>tt[i-1]:\n",
    "        d2 = tt[i]\n",
    "    else:\n",
    "        d2 = tt[i-1]\n",
    "        \n",
    "print(tt)        \n",
    "print(d2)"
   ]
  },
  {
   "cell_type": "code",
   "execution_count": 6,
   "id": "4d6db4fd",
   "metadata": {},
   "outputs": [
    {
     "name": "stdout",
     "output_type": "stream",
     "text": [
      "49500.0\n",
      "57200.0\n",
      "43700.0\n",
      "66000.0\n",
      "123600.0\n"
     ]
    }
   ],
   "source": [
    "# Q4\n",
    "salaries = [45000, 52000, 38000, 60000, 120000]\n",
    "\n",
    "for i in salaries:\n",
    "    if i < 40000:\n",
    "        bl4 = i*0.15 + i\n",
    "        print(bl4)\n",
    "    elif 40000<=i<=70000:\n",
    "        be47 = i*0.10 + i\n",
    "        print(be47)\n",
    "    elif 70000<i<=100000:\n",
    "        be710 = i*0.05 + i\n",
    "        print(be710)\n",
    "    else:\n",
    "        a10 = i*0.03 + i\n",
    "        print(a10)"
   ]
  },
  {
   "cell_type": "code",
   "execution_count": 25,
   "id": "1dbb032e",
   "metadata": {},
   "outputs": [
    {
     "name": "stdout",
     "output_type": "stream",
     "text": [
      "[0, 0, 0, 5, 12, 3, 8] is the product, that remained out of stock for 3 consecutive days\n",
      "[0, 0, 0, 5, 12, 3, 8] has more frequent stock outs\n",
      "[15, 0, 8, 23, 9, 0, 45, 1, 2, 3, 4] urgent restocking\n"
     ]
    }
   ],
   "source": [
    "# Q5\n",
    "# 1.\tIdentify items that remained out of stock for 3 consecutive days or more.\n",
    "# 2.\tDetermine the product with the most frequent stock-outs.\n",
    "# 3.\tIdentify items that required urgent restocking (quantity below 5 for more than 5 days).\n",
    "\n",
    "stocks = [[15, 0, 8, 23, 9, 0, 45, 1, 2, 3, 4], [0, 0, 0, 5, 12, 3, 8]]\n",
    "more_3_0 = 0\n",
    "tmore_3_0 = 0\n",
    "stock_out = 0\n",
    "stock_out_1 = 0\n",
    "stock_5_0 = 0\n",
    "stock_5_1 = 0\n",
    "\n",
    "for j in range(0,len(stocks)):\n",
    "    for i in range(0,len(stocks[j])):\n",
    "        if stocks[j][i]==0:\n",
    "            more_3_0+=1\n",
    "            if more_3_0==3:\n",
    "                tmore_3_0=more_3_0\n",
    "                print(stocks[j],\"is the product, that remained out of stock for 3 consecutive days\")\n",
    "        else:\n",
    "            more_3_0 = 0\n",
    "\n",
    "            \n",
    "for i in range(0,len(stocks[0])):\n",
    "    if stocks[0][i]==0:\n",
    "        stock_out+=1\n",
    "for i in range(0,len(stocks[1])):\n",
    "    if stocks[1][i]==0:\n",
    "        stock_out_1+=1\n",
    "if stock_out>stock_out_1:\n",
    "    print(stocks[0],\"has more frequent stock outs\")\n",
    "else:\n",
    "    print(stocks[1],\"has more frequent stock outs\")\n",
    "\n",
    "\n",
    "for i in range(0,len(stocks[0])):\n",
    "    if stocks[0][i]<5:\n",
    "        stock_5_0+=1\n",
    "for i in range(0,len(stocks[1])):\n",
    "    if stocks[1][i]<5:\n",
    "        stock_5_1+=1\n",
    "if stock_5_0>5:\n",
    "    print(stocks[0],\"urgent restocking\")\n",
    "if stock_5_1>5:\n",
    "    print(stocks[1],\"urgent restocking\")"
   ]
  },
  {
   "cell_type": "code",
   "execution_count": 23,
   "id": "6ed9d772",
   "metadata": {},
   "outputs": [
    {
     "name": "stdout",
     "output_type": "stream",
     "text": [
      "Low Risk 0\n",
      "High Risk 1\n",
      "Medium Risk 2\n"
     ]
    }
   ],
   "source": [
    "# Q6\n",
    "orders = [{\n",
    "    \"amount\": 1200,\n",
    "    \"status\": \"paid\",\n",
    "    \"delivery\": 2,\n",
    "    \"attempts\": 4\n",
    "},{\n",
    "    \"amount\": 4500,\n",
    "    \"status\": \"failed\",\n",
    "    \"attempts\": 4\n",
    "},{\n",
    "    \"amount\": 4500,\n",
    "    \"status\": \"pending\",\n",
    "    \"delivery\": 7,\n",
    "    \"attempts\": 4\n",
    "}]\n",
    "\n",
    "a = 0\n",
    "for i in orders:\n",
    "    if orders[a][\"status\"]==\"paid\" and orders[a][\"delivery\"]<=3:\n",
    "        print(\"Low Risk\",a)\n",
    "    elif orders[a][\"status\"]==\"pending\" and orders[a][\"delivery\"]>5:\n",
    "        print(\"Medium Risk\",a)\n",
    "    elif orders[a][\"status\"]==\"failed\" and orders[a][\"attempts\"]>3:\n",
    "        print(\"High Risk\",a)\n",
    "    a+=1"
   ]
  },
  {
   "cell_type": "markdown",
   "id": "53d0e554",
   "metadata": {},
   "source": [
    "# DOUBT"
   ]
  },
  {
   "cell_type": "code",
   "execution_count": 14,
   "id": "ec9ae6b9",
   "metadata": {},
   "outputs": [
    {
     "name": "stdout",
     "output_type": "stream",
     "text": [
      "3\n",
      "5\n",
      "7\n",
      "1\n"
     ]
    }
   ],
   "source": [
    "# Q7\n",
    "t = [12, 9, 8, 7, 10, 15, 17, 20, 19, 18, 18, 16, 14]\n",
    "drop = 0\n",
    "spike = 0\n",
    "b_spike = 0\n",
    "b_drop = 0\n",
    "\n",
    "for i in range(1,len(t)):\n",
    "    if t[i]>t[i-1]:\n",
    "        spike = t[i]-t[i-1]\n",
    "        if b_spike<spike:\n",
    "            b_spike=spike\n",
    "    else:\n",
    "        drop = t[i-1]-t[i]\n",
    "        if b_drop<drop:\n",
    "            b_drop=drop\n",
    "\n",
    "print(b_drop)\n",
    "print(b_spike)\n",
    "\n",
    "d_stable = 0\n",
    "s_stable = 0\n",
    "\n",
    "for i in range(1,len(t)):\n",
    "    if t[i]>t[i-1]:\n",
    "        spike = t[i]-t[i-1]\n",
    "        if spike<=2:\n",
    "            s_stable+=1\n",
    "    else:\n",
    "        drop = t[i-1]-t[i]\n",
    "        if drop<=2:\n",
    "            d_stable+=1\n",
    "            \n",
    "print(d_stable)\n",
    "print(s_stable)"
   ]
  },
  {
   "cell_type": "code",
   "execution_count": 6,
   "id": "ef5fdb12",
   "metadata": {},
   "outputs": [
    {
     "name": "stdout",
     "output_type": "stream",
     "text": [
      "4\n"
     ]
    }
   ],
   "source": [
    "t = [12, 9, 8, 7, 10, 15, 17, 20, 19, 18, 18, 16, 14 ,1,2,3,4]\n",
    "cold = 0\n",
    "b = 0\n",
    "for i in t:\n",
    "    if i<10:\n",
    "        cold+=1\n",
    "        b = max(b,cold)\n",
    "    else:\n",
    "        cold = 0\n",
    "print(b)"
   ]
  },
  {
   "cell_type": "code",
   "execution_count": null,
   "id": "26a38220",
   "metadata": {},
   "outputs": [],
   "source": [
    "i = 12\n",
    "i = 9 ,if 9<10 ,c=+1, l = max(0,1)==1, l=1\n",
    "i = 8 ,"
   ]
  },
  {
   "cell_type": "code",
   "execution_count": 51,
   "id": "fd4522e6",
   "metadata": {},
   "outputs": [
    {
     "name": "stdout",
     "output_type": "stream",
     "text": [
      "3\n",
      "3\n"
     ]
    }
   ],
   "source": [
    "# Q8\n",
    "tran = [{\n",
    "    \"account\": \"A123\",\n",
    "    \"amount\": 45000,\n",
    "    \"status\": \"failed\"\n",
    "},{\n",
    "   \"account\": \"A123\",\n",
    "    \"amount\": 50000,\n",
    "    \"status\": \"failed\"\n",
    "},{\n",
    "   \"account\": \"A123\",\n",
    "    \"amount\": 50000,\n",
    "    \"status\": \"passed\" \n",
    "},{\n",
    "    \"account\": \"A123\",\n",
    "    \"amount\": 50000,\n",
    "    \"status\": \"failed\"\n",
    "},{\n",
    "    \"account\": \"A123\",\n",
    "    \"amount\": 50000,\n",
    "    \"status\": \"failed\"\n",
    "},{\n",
    "    \"account\": \"A123\",\n",
    "    \"amount\": 50000,\n",
    "    \"status\": \"failed\"\n",
    "}]\n",
    "\n",
    "a = 0\n",
    "failed = 0\n",
    "t_failed = 0\n",
    "\n",
    "for i in tran:\n",
    "    if a>=len(tran)-1:\n",
    "        a-=1\n",
    "    if i[\"status\"]==\"failed\" and tran[a+1][\"status\"]==\"failed\":\n",
    "        failed+=1\n",
    "        if t_failed<failed:\n",
    "            t_failed=failed\n",
    "    else:\n",
    "        failed = 0\n",
    "    a+=1\n",
    "print(failed)\n",
    "print(t_failed)"
   ]
  },
  {
   "cell_type": "code",
   "execution_count": 9,
   "id": "391cc269",
   "metadata": {},
   "outputs": [
    {
     "data": {
      "text/plain": [
       "15"
      ]
     },
     "execution_count": 9,
     "metadata": {},
     "output_type": "execute_result"
    }
   ],
   "source": [
    "x = 456\n",
    "b = 0\n",
    "while x!=0:\n",
    "    a = x%10\n",
    "    b = b+a\n",
    "    x //= 10\n",
    "b"
   ]
  },
  {
   "cell_type": "code",
   "execution_count": null,
   "id": "ea1d4792",
   "metadata": {},
   "outputs": [],
   "source": [
    "x = int(input(\"Enter Number: \"))\n",
    "b = 0\n",
    "while x!=0:\n",
    "    a = x%10\n",
    "    "
   ]
  },
  {
   "cell_type": "markdown",
   "id": "548aa357",
   "metadata": {},
   "source": [
    "# new"
   ]
  },
  {
   "cell_type": "code",
   "execution_count": 16,
   "id": "45415872",
   "metadata": {},
   "outputs": [
    {
     "name": "stdout",
     "output_type": "stream",
     "text": [
      "Enter a number: 289\n",
      "Reversed: 982\n"
     ]
    }
   ],
   "source": [
    "# 2. Reverse Digits Without String Conversion:\n",
    "# Take an integer as input and reverse its digits without converting it into a string.\n",
    "\n",
    "a = int(input(\"Enter a number: \"))\n",
    "b = 0\n",
    "\n",
    "while a > 0:\n",
    "    b = b * 10 + a % 10\n",
    "    a //= 10\n",
    "\n",
    "print(\"Reversed:\", b)\n"
   ]
  },
  {
   "cell_type": "code",
   "execution_count": 14,
   "id": "6fa2bcb1",
   "metadata": {},
   "outputs": [
    {
     "name": "stdout",
     "output_type": "stream",
     "text": [
      "Enter number: 1123456788\n"
     ]
    },
    {
     "data": {
      "text/plain": [
       "{1, 8}"
      ]
     },
     "execution_count": 14,
     "metadata": {},
     "output_type": "execute_result"
    }
   ],
   "source": [
    "# 3. Repeated Digit Extraction:\n",
    "# Write a while loop program that extracts and prints the repeated digits in a given integer.\n",
    "\n",
    "a = int(input(\"Enter number: \"))\n",
    "c = set()\n",
    "d = set()\n",
    "while a>0:\n",
    "    b = a%10\n",
    "    a //= 10\n",
    "    if b not in c:\n",
    "        c.add(b)\n",
    "    else:\n",
    "        d.add(b)\n",
    "d"
   ]
  },
  {
   "cell_type": "code",
   "execution_count": 31,
   "id": "9949a723",
   "metadata": {},
   "outputs": [
    {
     "name": "stdout",
     "output_type": "stream",
     "text": [
      "Enter Number: 5489\n",
      "4\n",
      "9\n"
     ]
    }
   ],
   "source": [
    "# 4 Find the Smallest and Largest Digits in a Number:\n",
    "# Given an integer, find the smallest and largest digits using a while loop.\n",
    "\n",
    "a = int(input(\"Enter Number: \"))\n",
    "s = 9\n",
    "b = 0\n",
    "\n",
    "while a>0:\n",
    "    z = a%10\n",
    "    if z>b:\n",
    "        b=z\n",
    "    if z<s:\n",
    "        s=z\n",
    "    a //= 10\n",
    "print(s)\n",
    "print(b)"
   ]
  },
  {
   "cell_type": "code",
   "execution_count": 21,
   "id": "63afc4b0",
   "metadata": {},
   "outputs": [
    {
     "name": "stdout",
     "output_type": "stream",
     "text": [
      "78\n",
      "Even\n",
      "39\n"
     ]
    }
   ],
   "source": [
    "# 5. Custom Collatz Sequence:\n",
    "# Modify the standard Collatz sequence: if the number is even, divide it by 2; if odd,\n",
    "# multiply by 3 and add 1. However, if a number is divisible by 5, subtract 1 instead of multiplying.\n",
    "\n",
    "a = int(input())\n",
    "b = 1\n",
    "\n",
    "while b>0:\n",
    "    if a%2==0 and a%5!=0:\n",
    "        print(\"Even\")\n",
    "        print(a//2)\n",
    "    elif a%2!=0:\n",
    "        print(\"Odd\")\n",
    "        print((a*3)+1)\n",
    "    elif a%5==0:\n",
    "        print(\"5\")\n",
    "        print(a-1)\n",
    "    b-=1"
   ]
  },
  {
   "cell_type": "code",
   "execution_count": 114,
   "id": "a7bbcab8",
   "metadata": {},
   "outputs": [],
   "source": [
    "# Bank account system,\n",
    "# if 1 show details, \n",
    "# if 2 show balance,\n",
    "# if 3 add money, \n",
    "# if 4 withdraw ,if withdraw is more than acc balance show insufficient balance\n",
    "# if 5 exit"
   ]
  },
  {
   "cell_type": "code",
   "execution_count": 17,
   "id": "2efaa9c2",
   "metadata": {},
   "outputs": [],
   "source": [
    "bank_detail = {\n",
    "    \"Name\":\"Max\",\n",
    "    \"Acc ID\":312341241,\n",
    "    \"Balance\":2000\n",
    "}"
   ]
  },
  {
   "cell_type": "code",
   "execution_count": 18,
   "id": "3360fbc0",
   "metadata": {},
   "outputs": [],
   "source": [
    "class Bank:\n",
    "    \n",
    "    def __init__(self):\n",
    "        self.a = int(input(\"\"\"Enter number\n",
    "        1 (Bank details)\n",
    "        2 (Bank Balance)\n",
    "        3 (Deposit)\n",
    "        4 (Withdraw)\n",
    "        5 (Exit): \"\"\"))\n",
    "        \n",
    "    def bank(self):\n",
    "        \n",
    "        if self.a==1:\n",
    "            print(bank_detail)\n",
    "        \n",
    "        elif self.a==2:\n",
    "            print(bank_detail[\"Balance\"])\n",
    "    \n",
    "        elif self.a==3:\n",
    "            deposit = int(input(\"Enter amount you want to deposit: \"))\n",
    "            bank_detail[\"Balance\"] += deposit\n",
    "            print(bank_detail[\"Balance\"])\n",
    "        \n",
    "        elif self.a==4:\n",
    "            withdraw = int(input(\"Enter amount you want to withdraw: \"))\n",
    "            bank_detail[\"Balance\"] -= withdraw\n",
    "            print(bank_detail[\"Balance\"])\n",
    "            \n",
    "        elif self.a==5:\n",
    "            print(\"Exiting the protocol\")\n",
    "            \n",
    "        else:\n",
    "            print(f\"{self.a} is not specified , re-enter the number\")"
   ]
  },
  {
   "cell_type": "code",
   "execution_count": 19,
   "id": "e1758e25",
   "metadata": {
    "scrolled": true
   },
   "outputs": [
    {
     "name": "stdout",
     "output_type": "stream",
     "text": [
      "Enter number\n",
      "        1 (Bank details)\n",
      "        2 (Bank Balance)\n",
      "        3 (Deposit)\n",
      "        4 (Withdraw)\n",
      "        5 (Exit): 3\n",
      "Enter amount you want to deposit: 100\n",
      "2100\n"
     ]
    }
   ],
   "source": [
    "x = Bank()\n",
    "x.bank()"
   ]
  },
  {
   "cell_type": "code",
   "execution_count": null,
   "id": "1afeca71",
   "metadata": {},
   "outputs": [],
   "source": []
  },
  {
   "cell_type": "code",
   "execution_count": null,
   "id": "5b178e35",
   "metadata": {},
   "outputs": [],
   "source": []
  },
  {
   "cell_type": "code",
   "execution_count": null,
   "id": "2764f578",
   "metadata": {},
   "outputs": [],
   "source": []
  }
 ],
 "metadata": {
  "kernelspec": {
   "display_name": "Python 3 (ipykernel)",
   "language": "python",
   "name": "python3"
  },
  "language_info": {
   "codemirror_mode": {
    "name": "ipython",
    "version": 3
   },
   "file_extension": ".py",
   "mimetype": "text/x-python",
   "name": "python",
   "nbconvert_exporter": "python",
   "pygments_lexer": "ipython3",
   "version": "3.11.5"
  }
 },
 "nbformat": 4,
 "nbformat_minor": 5
}
